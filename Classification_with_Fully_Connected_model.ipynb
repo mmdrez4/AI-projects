{
  "cells": [
    {
      "cell_type": "markdown",
      "metadata": {
        "id": "KKlVZnjY2nqX"
      },
      "source": [
        "In this task, you should train a fully-connected model with pytorch to classify MNIST dataset."
      ]
    },
    {
      "cell_type": "markdown",
      "metadata": {
        "id": "KbAlALZI42rj"
      },
      "source": [
        "# Load the dataset\n",
        "\n",
        "Load the MNIST dataset bellow. You can use either `torchvision.datasets.MNIST` or `sklearn.datasets.fetch_openml()` or any other way to load the dataset."
      ]
    },
    {
      "cell_type": "code",
      "source": [
        "import torch\n",
        "from torchvision import datasets\n",
        "import matplotlib.pyplot as plt\n",
        "import torchvision.transforms as transforms\n",
        "import os\n",
        "from torch.utils.data import Dataset, DataLoader, random_split\n",
        "import torch.nn as nn\n",
        "import torch.nn.functional as F"
      ],
      "metadata": {
        "id": "QKRnxuU4Pgby"
      },
      "execution_count": 1,
      "outputs": []
    },
    {
      "cell_type": "code",
      "source": [
        "device = torch.device('cuda' if torch.cuda.is_available() else 'cpu')\n",
        "device"
      ],
      "metadata": {
        "colab": {
          "base_uri": "https://localhost:8080/"
        },
        "id": "o0uaTXIyPcRd",
        "outputId": "3c4f5d97-6bc8-425c-ce4d-9105aeb8e3df"
      },
      "execution_count": 2,
      "outputs": [
        {
          "output_type": "execute_result",
          "data": {
            "text/plain": [
              "device(type='cuda')"
            ]
          },
          "metadata": {},
          "execution_count": 2
        }
      ]
    },
    {
      "cell_type": "code",
      "source": [
        "transform_compose = transforms.Compose([\n",
        "    transforms.ToTensor(),\n",
        "])\n",
        "\n",
        "mnist_dataset = datasets.MNIST(root='dataset', train=True, download=True, transform=transform_compose)\n",
        "train_size = int(0.9 * len(mnist_dataset))\n",
        "val_size = len(mnist_dataset) - train_size\n",
        "train_dataset, val_dataset = torch.utils.data.random_split(mnist_dataset, (train_size, val_size))\n",
        "\n",
        "test_dataset = datasets.MNIST(root='dataset', train=False, download=True, transform=transforms.ToTensor())\n",
        "\n",
        "train_loader = DataLoader(dataset=train_dataset, batch_size=32, shuffle=True)\n",
        "val_loader = DataLoader(dataset=val_dataset, batch_size=32, shuffle=False)\n",
        "test_loader = DataLoader(dataset=test_dataset, batch_size=32, shuffle=False)"
      ],
      "metadata": {
        "colab": {
          "base_uri": "https://localhost:8080/",
          "height": 417,
          "referenced_widgets": [
            "36f649169f524f1f91768c56291a8b0d",
            "908dab48fac0432bad218be6a1093ecd",
            "319cdf7b8e874c79ad1dbd1da1388360",
            "3c7d3b979f8b4d1d916e13087cff8cb5",
            "9059646710e942ae9bba6eee5486be82",
            "a77ef569e82848d4872364b0842307cd",
            "7ded6acbda4f45bca41db9743dc62754",
            "ef01c6fbe4104182a5ff6e133f881075",
            "6a5a0dd37c654517bf3c5d45f7f3d3a4",
            "ecfde1ed2dc44f7da12890cbc551ccc3",
            "bd738be6ce224f34946d41c9bf22d8b9",
            "74c69df4796047469dc4fbde611d40a9",
            "32a4eecc8163428c888e99610cf2f9f0",
            "3265d6888a814b7ca55968a9221afc13",
            "32cdc4520ec24abfa33b170857da5c2a",
            "abd24746008d4c37ad5c97cec09c3595",
            "94950a9bb76142d5ab74263fb62597da",
            "b9c1e8c940024550961286ed2ab60ae3",
            "d6daeeeed0cd4a209bcb7d252b243df6",
            "009ccb071c8f47cc916d6c657434e2d2",
            "3291b0bcffb148fab03b1004544317a2",
            "86b642f1150943beb7aec5c4dfd817c8",
            "89c1129d4b7c424982ec7acd85e836da",
            "9bcaaab27bec430e89c14846ddf5d193",
            "ce8cf2623651466d8bc39236e1799c65",
            "ae07470d4b96459caf1ea7f28362fcc7",
            "5fab2ab5ead34ef7afae6649964c8e28",
            "2aec823ed9ab4eb0bc409b3317239463",
            "88a328cc73cd479380204fa0d02cff90",
            "0fe80a09d2c54198b7cf99704c25fd7a",
            "68657aee3a6c4b28bb019fa77a68327b",
            "bfc86448b16342adb0396180b787d391",
            "7420d8cfe23b43c9bc78e064c788e16f",
            "927c26b383bb415f9af19b3ca47ede57",
            "e98474ae945d47739296dad90031c1c8",
            "61ea01d457e4475f968c41b668b80e8b",
            "c034d8c6726843dc97bfef972f5e056f",
            "f95296e5ae72456182e86c5c6c74ec9d",
            "7184796e9409475981c77df60a045dc4",
            "99222544f30842f3b5a1516ac7a9f9f8",
            "e81de26242f2478ba05dd1c2b6e14f84",
            "4b4c41e127204810b6b79fe683f0d1be",
            "c31e67570dec400795775f5a4326f11f",
            "ddbdc9dda5a34aa0a5e9c0656539cd4b"
          ]
        },
        "id": "AxT-wC8oJ37m",
        "outputId": "2b37cbd8-c7aa-4301-c3bf-611ed7520f2b"
      },
      "execution_count": 3,
      "outputs": [
        {
          "output_type": "stream",
          "name": "stdout",
          "text": [
            "Downloading http://yann.lecun.com/exdb/mnist/train-images-idx3-ubyte.gz\n",
            "Downloading http://yann.lecun.com/exdb/mnist/train-images-idx3-ubyte.gz to dataset/MNIST/raw/train-images-idx3-ubyte.gz\n"
          ]
        },
        {
          "output_type": "display_data",
          "data": {
            "text/plain": [
              "  0%|          | 0/9912422 [00:00<?, ?it/s]"
            ],
            "application/vnd.jupyter.widget-view+json": {
              "version_major": 2,
              "version_minor": 0,
              "model_id": "36f649169f524f1f91768c56291a8b0d"
            }
          },
          "metadata": {}
        },
        {
          "output_type": "stream",
          "name": "stdout",
          "text": [
            "Extracting dataset/MNIST/raw/train-images-idx3-ubyte.gz to dataset/MNIST/raw\n",
            "\n",
            "Downloading http://yann.lecun.com/exdb/mnist/train-labels-idx1-ubyte.gz\n",
            "Downloading http://yann.lecun.com/exdb/mnist/train-labels-idx1-ubyte.gz to dataset/MNIST/raw/train-labels-idx1-ubyte.gz\n"
          ]
        },
        {
          "output_type": "display_data",
          "data": {
            "text/plain": [
              "  0%|          | 0/28881 [00:00<?, ?it/s]"
            ],
            "application/vnd.jupyter.widget-view+json": {
              "version_major": 2,
              "version_minor": 0,
              "model_id": "74c69df4796047469dc4fbde611d40a9"
            }
          },
          "metadata": {}
        },
        {
          "output_type": "stream",
          "name": "stdout",
          "text": [
            "Extracting dataset/MNIST/raw/train-labels-idx1-ubyte.gz to dataset/MNIST/raw\n",
            "\n",
            "Downloading http://yann.lecun.com/exdb/mnist/t10k-images-idx3-ubyte.gz\n",
            "Downloading http://yann.lecun.com/exdb/mnist/t10k-images-idx3-ubyte.gz to dataset/MNIST/raw/t10k-images-idx3-ubyte.gz\n"
          ]
        },
        {
          "output_type": "display_data",
          "data": {
            "text/plain": [
              "  0%|          | 0/1648877 [00:00<?, ?it/s]"
            ],
            "application/vnd.jupyter.widget-view+json": {
              "version_major": 2,
              "version_minor": 0,
              "model_id": "89c1129d4b7c424982ec7acd85e836da"
            }
          },
          "metadata": {}
        },
        {
          "output_type": "stream",
          "name": "stdout",
          "text": [
            "Extracting dataset/MNIST/raw/t10k-images-idx3-ubyte.gz to dataset/MNIST/raw\n",
            "\n",
            "Downloading http://yann.lecun.com/exdb/mnist/t10k-labels-idx1-ubyte.gz\n",
            "Downloading http://yann.lecun.com/exdb/mnist/t10k-labels-idx1-ubyte.gz to dataset/MNIST/raw/t10k-labels-idx1-ubyte.gz\n"
          ]
        },
        {
          "output_type": "display_data",
          "data": {
            "text/plain": [
              "  0%|          | 0/4542 [00:00<?, ?it/s]"
            ],
            "application/vnd.jupyter.widget-view+json": {
              "version_major": 2,
              "version_minor": 0,
              "model_id": "927c26b383bb415f9af19b3ca47ede57"
            }
          },
          "metadata": {}
        },
        {
          "output_type": "stream",
          "name": "stdout",
          "text": [
            "Extracting dataset/MNIST/raw/t10k-labels-idx1-ubyte.gz to dataset/MNIST/raw\n",
            "\n"
          ]
        }
      ]
    },
    {
      "cell_type": "markdown",
      "metadata": {
        "id": "6QS8RAKf5Am9"
      },
      "source": [
        "# Design your model\n",
        "\n",
        "Write your fully-connected model below using `torch.nn` modules. Feel free to add extra cells."
      ]
    },
    {
      "cell_type": "code",
      "execution_count": 19,
      "metadata": {
        "id": "dKoXyIjq5IYQ"
      },
      "outputs": [],
      "source": [
        "class DigitRecognizer(nn.Module):\n",
        "\n",
        "    def __init__(self):\n",
        "        super().__init__()\n",
        "        self.lin1 = nn.Linear(28*28, 512)\n",
        "        self.relu = nn.ReLU()\n",
        "        self.lin2 = nn.Linear(512, 10)\n",
        "\n",
        "        \n",
        "    def forward(self, x):\n",
        "        x = self.lin1(x)    \n",
        "        x = self.relu(x)\n",
        "        x = self.lin2(x)    \n",
        "        return x"
      ]
    },
    {
      "cell_type": "code",
      "source": [
        "model = DigitRecognizer().to(device)\n",
        "model"
      ],
      "metadata": {
        "colab": {
          "base_uri": "https://localhost:8080/"
        },
        "id": "DDvxYYqlJpJ7",
        "outputId": "214376bf-603d-4862-ec36-c85d62f04b31"
      },
      "execution_count": 20,
      "outputs": [
        {
          "output_type": "execute_result",
          "data": {
            "text/plain": [
              "DigitRecognizer(\n",
              "  (lin1): Linear(in_features=784, out_features=512, bias=True)\n",
              "  (relu): ReLU()\n",
              "  (lin2): Linear(in_features=512, out_features=10, bias=True)\n",
              ")"
            ]
          },
          "metadata": {},
          "execution_count": 20
        }
      ]
    },
    {
      "cell_type": "markdown",
      "metadata": {
        "id": "bn1JazTM5LUX"
      },
      "source": [
        "# Train your model\n",
        "\n",
        "Write the training process below. Instantiate your model, Create an optimizer function such as Adam or SGD, and write your train/validation loop. Then train your model until it converges. Feel free to add extra cells."
      ]
    },
    {
      "cell_type": "code",
      "source": [
        "criterion = nn.CrossEntropyLoss()\n",
        "learning_rate = 1e-4\n",
        "optimizer = torch.optim.Adam(model.parameters(), lr=learning_rate)"
      ],
      "metadata": {
        "id": "EKZ1X-wAKFOs"
      },
      "execution_count": 21,
      "outputs": []
    },
    {
      "cell_type": "code",
      "execution_count": 22,
      "metadata": {
        "id": "lW4UBnjL5Q9E",
        "colab": {
          "base_uri": "https://localhost:8080/"
        },
        "outputId": "2f9a62b7-1301-4192-a012-8be86df2bb44"
      },
      "outputs": [
        {
          "output_type": "stream",
          "name": "stdout",
          "text": [
            "[Epoch 0]\tTrain Loss: 0.5435\tValidation Loss: 0.2987\tTrain Accuracy: 87.63\tValidation Accuracy: 91.50\n",
            "[Epoch 1]\tTrain Loss: 0.2644\tValidation Loss: 0.2299\tTrain Accuracy: 92.68\tValidation Accuracy: 93.38\n",
            "[Epoch 2]\tTrain Loss: 0.2090\tValidation Loss: 0.1875\tTrain Accuracy: 94.19\tValidation Accuracy: 94.58\n",
            "[Epoch 3]\tTrain Loss: 0.1715\tValidation Loss: 0.1594\tTrain Accuracy: 95.17\tValidation Accuracy: 95.37\n",
            "[Epoch 4]\tTrain Loss: 0.1444\tValidation Loss: 0.1395\tTrain Accuracy: 95.98\tValidation Accuracy: 95.80\n",
            "[Epoch 5]\tTrain Loss: 0.1239\tValidation Loss: 0.1250\tTrain Accuracy: 96.54\tValidation Accuracy: 96.18\n",
            "[Epoch 6]\tTrain Loss: 0.1075\tValidation Loss: 0.1122\tTrain Accuracy: 97.06\tValidation Accuracy: 96.55\n",
            "[Epoch 7]\tTrain Loss: 0.0946\tValidation Loss: 0.1036\tTrain Accuracy: 97.40\tValidation Accuracy: 96.82\n",
            "[Epoch 8]\tTrain Loss: 0.0837\tValidation Loss: 0.0947\tTrain Accuracy: 97.70\tValidation Accuracy: 97.17\n",
            "[Epoch 9]\tTrain Loss: 0.0743\tValidation Loss: 0.0913\tTrain Accuracy: 97.96\tValidation Accuracy: 97.10\n",
            "[Epoch 10]\tTrain Loss: 0.0665\tValidation Loss: 0.0872\tTrain Accuracy: 98.17\tValidation Accuracy: 97.33\n",
            "[Epoch 11]\tTrain Loss: 0.0598\tValidation Loss: 0.0848\tTrain Accuracy: 98.40\tValidation Accuracy: 97.40\n",
            "[Epoch 12]\tTrain Loss: 0.0537\tValidation Loss: 0.0808\tTrain Accuracy: 98.57\tValidation Accuracy: 97.60\n",
            "[Epoch 13]\tTrain Loss: 0.0483\tValidation Loss: 0.0807\tTrain Accuracy: 98.74\tValidation Accuracy: 97.37\n",
            "[Epoch 14]\tTrain Loss: 0.0439\tValidation Loss: 0.0752\tTrain Accuracy: 98.87\tValidation Accuracy: 97.72\n",
            "[Epoch 15]\tTrain Loss: 0.0396\tValidation Loss: 0.0744\tTrain Accuracy: 99.03\tValidation Accuracy: 97.77\n",
            "[Epoch 16]\tTrain Loss: 0.0360\tValidation Loss: 0.0734\tTrain Accuracy: 99.14\tValidation Accuracy: 97.72\n",
            "[Epoch 17]\tTrain Loss: 0.0324\tValidation Loss: 0.0746\tTrain Accuracy: 99.25\tValidation Accuracy: 97.75\n",
            "[Epoch 18]\tTrain Loss: 0.0292\tValidation Loss: 0.0720\tTrain Accuracy: 99.35\tValidation Accuracy: 97.75\n",
            "[Epoch 19]\tTrain Loss: 0.0262\tValidation Loss: 0.0697\tTrain Accuracy: 99.46\tValidation Accuracy: 97.90\n",
            "[Epoch 20]\tTrain Loss: 0.0240\tValidation Loss: 0.0709\tTrain Accuracy: 99.48\tValidation Accuracy: 97.82\n",
            "[Epoch 21]\tTrain Loss: 0.0215\tValidation Loss: 0.0692\tTrain Accuracy: 99.60\tValidation Accuracy: 97.88\n",
            "[Epoch 22]\tTrain Loss: 0.0193\tValidation Loss: 0.0723\tTrain Accuracy: 99.66\tValidation Accuracy: 97.88\n",
            "[Epoch 23]\tTrain Loss: 0.0174\tValidation Loss: 0.0674\tTrain Accuracy: 99.71\tValidation Accuracy: 98.03\n",
            "[Epoch 24]\tTrain Loss: 0.0156\tValidation Loss: 0.0693\tTrain Accuracy: 99.76\tValidation Accuracy: 98.03\n",
            "[Epoch 25]\tTrain Loss: 0.0141\tValidation Loss: 0.0692\tTrain Accuracy: 99.79\tValidation Accuracy: 97.97\n",
            "[Epoch 26]\tTrain Loss: 0.0125\tValidation Loss: 0.0683\tTrain Accuracy: 99.84\tValidation Accuracy: 97.98\n",
            "[Epoch 27]\tTrain Loss: 0.0111\tValidation Loss: 0.0682\tTrain Accuracy: 99.87\tValidation Accuracy: 97.98\n",
            "[Epoch 28]\tTrain Loss: 0.0099\tValidation Loss: 0.0675\tTrain Accuracy: 99.90\tValidation Accuracy: 98.07\n",
            "[Epoch 29]\tTrain Loss: 0.0091\tValidation Loss: 0.0680\tTrain Accuracy: 99.88\tValidation Accuracy: 97.98\n",
            "[Epoch 30]\tTrain Loss: 0.0078\tValidation Loss: 0.0681\tTrain Accuracy: 99.92\tValidation Accuracy: 98.17\n",
            "[Epoch 31]\tTrain Loss: 0.0071\tValidation Loss: 0.0679\tTrain Accuracy: 99.94\tValidation Accuracy: 98.10\n",
            "[Epoch 32]\tTrain Loss: 0.0062\tValidation Loss: 0.0701\tTrain Accuracy: 99.95\tValidation Accuracy: 98.05\n",
            "[Epoch 33]\tTrain Loss: 0.0055\tValidation Loss: 0.0724\tTrain Accuracy: 99.96\tValidation Accuracy: 98.08\n",
            "[Epoch 34]\tTrain Loss: 0.0049\tValidation Loss: 0.0727\tTrain Accuracy: 99.97\tValidation Accuracy: 98.18\n",
            "[Epoch 35]\tTrain Loss: 0.0043\tValidation Loss: 0.0711\tTrain Accuracy: 99.98\tValidation Accuracy: 98.10\n",
            "[Epoch 36]\tTrain Loss: 0.0037\tValidation Loss: 0.0733\tTrain Accuracy: 99.99\tValidation Accuracy: 98.12\n",
            "[Epoch 37]\tTrain Loss: 0.0033\tValidation Loss: 0.0744\tTrain Accuracy: 99.98\tValidation Accuracy: 97.98\n",
            "[Epoch 38]\tTrain Loss: 0.0030\tValidation Loss: 0.0739\tTrain Accuracy: 99.98\tValidation Accuracy: 98.13\n",
            "[Epoch 39]\tTrain Loss: 0.0026\tValidation Loss: 0.0753\tTrain Accuracy: 99.99\tValidation Accuracy: 98.07\n"
          ]
        }
      ],
      "source": [
        "num_epochs = 40\n",
        "\n",
        "train_loss_arr, val_loss_arr = [], []\n",
        "train_accuracy, val_accuracy = [], [] \n",
        "for epoch in range(num_epochs):\n",
        "    train_loss, val_loss = 0, 0\n",
        "\n",
        "    model.train()\n",
        "\n",
        "    epoch_all_train = 0\n",
        "    epoch_true_train = 0\n",
        "    epoch_accuracy = 0\n",
        "    epoch_all_val = 0\n",
        "    epoch_true_val = 0\n",
        "    n = 0 \n",
        "    for i, (x, y) in enumerate(train_loader):\n",
        "        x = x.to(device)\n",
        "        y = y.to(device)\n",
        "        x = x.reshape((-1, 784))\n",
        "        optimizer.zero_grad()\n",
        "        p = model(x)\n",
        "        n += len(x)\n",
        "\n",
        "        batch_loss = criterion(p, y)\n",
        "        batch_size = p.shape[0]\n",
        "        train_loss += float(batch_loss.item() * batch_size)\n",
        "\n",
        "        predictions = p.argmax(-1)\n",
        "        epoch_all_train += len(predictions)\n",
        "        epoch_true_train += int((predictions == y).sum())\n",
        "\n",
        "        batch_loss.backward()\n",
        "\n",
        "        optimizer.step()\n",
        "    \n",
        "    epoch_true_train *= 100.0 / n\n",
        "\n",
        "  \n",
        "    n = 0\n",
        "    model.eval()            \n",
        "    with torch.no_grad():\n",
        "      for i, (x, y) in enumerate(val_loader):\n",
        "        x = x.to(device)\n",
        "        y = y.to(device)\n",
        "        x = x.reshape((-1, 784))\n",
        "        p = model(x)\n",
        "        n += len(x)\n",
        "\n",
        "        batch_loss = criterion(p, y)\n",
        "        batch_size = p.shape[0]\n",
        "        val_loss += float(batch_loss.item() * batch_size)\n",
        "\n",
        "        predictions = p.argmax(-1)\n",
        "        epoch_all_val += len(predictions)\n",
        "        epoch_true_val += int((predictions == y).sum())\n",
        "\n",
        "    train_loss /= len(train_loader.dataset)\n",
        "    val_loss /= len(val_loader.dataset)\n",
        "    epoch_true_val *= 100.0 / n\n",
        "\n",
        "    train_loss_arr.append(train_loss)\n",
        "    val_loss_arr.append(val_loss)\n",
        "    train_accuracy.append(epoch_true_train)\n",
        "    val_accuracy.append(epoch_true_val)\n",
        "\n",
        "    print(f\"[Epoch {epoch}]\\t\"\n",
        "        f\"Train Loss: {train_loss:.4f}\\t\"\n",
        "        f\"Validation Loss: {val_loss:.4f}\\t\"\n",
        "        f\"Train Accuracy: {epoch_true_train:.2f}\\t\"\n",
        "        f\"Validation Accuracy: {epoch_true_val:.2f}\")"
      ]
    },
    {
      "cell_type": "markdown",
      "metadata": {
        "id": "z2jTsGQY5jUQ"
      },
      "source": [
        "# Draw the training curves\n",
        "\n",
        "Draw two diagrams for train and validation, one showing loss of each epoch, and another showing accuracy of each epoch."
      ]
    },
    {
      "cell_type": "code",
      "execution_count": 37,
      "metadata": {
        "id": "07HK4m6n5mb1",
        "colab": {
          "base_uri": "https://localhost:8080/",
          "height": 714
        },
        "outputId": "d1a3d766-354a-484d-fbf2-4456d0245a7e"
      },
      "outputs": [
        {
          "output_type": "display_data",
          "data": {
            "text/plain": [
              "<Figure size 1440x864 with 2 Axes>"
            ],
            "image/png": "[encoded data removed]"
          },
          "metadata": {
            "needs_background": "light"
          }
        }
      ],
      "source": [
        "plt.subplot(1, 2, 1)\n",
        "\n",
        "plt.plot(train_loss_arr,'green',label = 'Train')\n",
        "plt.plot(val_loss_arr,'red',label = 'Validation')\n",
        "plt.xlabel(\"Epoch\")\n",
        "plt.ylabel(\"Loss\")\n",
        "plt.legend()\n",
        "plt.rcParams[\"figure.figsize\"] = (20,15)\n",
        "\n",
        "\n",
        "plt.subplot(1, 2, 2)\n",
        "\n",
        "plt.plot(train_accuracy,'green',label = 'Train')\n",
        "plt.plot(val_accuracy,'red',label = 'Validation')\n",
        "plt.xlabel(\"Epoch\")\n",
        "plt.ylabel(\"Accuracy\")\n",
        "plt.legend()\n",
        "plt.rcParams[\"figure.figsize\"] = (20,15)\n",
        "\n",
        "\n",
        "plt.show()"
      ]
    },
    {
      "cell_type": "markdown",
      "metadata": {
        "id": "yS8KK2vOXPQe"
      },
      "source": [
        "# Evaluate your model\n",
        "\n",
        "Evaluate the best epoch's model (according to the validation accuracy) on the test set, and report the accuracy. Is your model overfitted?"
      ]
    },
    {
      "cell_type": "code",
      "execution_count": 38,
      "metadata": {
        "id": "FyWCn8RlXVPU",
        "colab": {
          "base_uri": "https://localhost:8080/"
        },
        "outputId": "c53eaa07-b965-465c-a8cf-ee6fa2592a30"
      },
      "outputs": [
        {
          "output_type": "stream",
          "name": "stdout",
          "text": [
            "Test Loss: 0.2234\n",
            "accuracy: 98.08\n"
          ]
        }
      ],
      "source": [
        "model.eval()\n",
        "accuracy = 0.0\n",
        "total = 0.0\n",
        "test_loss = 0\n",
        "with torch.no_grad():\n",
        "    for data in test_loader:\n",
        "      images, labels = data\n",
        "      images = images.to(device)\n",
        "      labels = labels.to(device)\n",
        "      images = images.reshape((-1, 784))\n",
        "      outputs = model(images)\n",
        "      batch_loss = criterion(p, y)\n",
        "      batch_size = p.shape[0]\n",
        "      test_loss += float(batch_loss.item() * batch_size)\n",
        "      _, predicted = torch.max(outputs.data, 1)\n",
        "      total += labels.size(0)\n",
        "      accuracy += (predicted == labels).sum().item()\n",
        "\n",
        "test_loss /= len(test_loader.dataset)\n",
        "print(f\"Test Loss: {test_loss:.4f}\")\n",
        "accuracy = (100 * accuracy / total)\n",
        "print(f\"accuracy: {accuracy:.2f}\")"
      ]
    },
    {
      "cell_type": "markdown",
      "source": [
        "Our model performs perfect because we can see that the accuracy for the test set is good enough."
      ],
      "metadata": {
        "id": "kVn1P9cqxL91"
      }
    },
    {
      "cell_type": "markdown",
      "metadata": {
        "id": "SpCyBGxYXD8g"
      },
      "source": [
        "# Draw misclassified images\n",
        "\n",
        "Draw 20 misclassified images from test set with expected and predicted labels."
      ]
    },
    {
      "cell_type": "code",
      "execution_count": 50,
      "metadata": {
        "id": "RUv7EenHXGhu",
        "colab": {
          "base_uri": "https://localhost:8080/",
          "height": 1000
        },
        "outputId": "33356c7a-2577-4408-d5cd-60a1f7c1afd6"
      },
      "outputs": [
        {
          "output_type": "display_data",
          "data": {
            "text/plain": [
              "<Figure size 504x9216 with 40 Axes>"
            ],
            "image/png": "[encoded data removed]"
          },
          "metadata": {}
        }
      ],
      "source": [
        "batch_size = 32\n",
        "wrong_images = []\n",
        "predicted_actual = []\n",
        "predicted_labels = []\n",
        "with torch.no_grad():\n",
        "    for data in test_loader:\n",
        "      x, labels = data\n",
        "      images = x.to(device)\n",
        "      labels = labels.to(device)\n",
        "      images = images.reshape((-1, 784))\n",
        "      outputs = model(images)\n",
        "      _, predicted = torch.max(outputs.data, 1)\n",
        "      total += labels.size(0)\n",
        "      for i in range(len(predicted)):\n",
        "        p = predicted[i].item()\n",
        "        l = labels[i].item()\n",
        "        predicted_labels.append(p)\n",
        "        if p != l:\n",
        "          wrong_images.append(x[i])\n",
        "          predicted_actual.append(\"actual: \" + str(l) + \"     prediction: \"+ str(p))\n",
        "\n",
        "num_imgs = 40\n",
        "fig, axs = plt.subplots(num_imgs, 1, figsize=(7, 128))\n",
        "for i, idx in enumerate(torch.randint(0, len(wrong_images), [num_imgs])):\n",
        "    x = wrong_images[idx]\n",
        "    axs[i].imshow(x[0], cmap='gray')\n",
        "    axs[i].set_ylabel(predicted_actual[idx] + \"\\n\")\n",
        "    for k in range(1):\n",
        "        axs[i].set_yticks([])\n",
        "        axs[i].set_xticks([])"
      ]
    },
    {
      "cell_type": "markdown",
      "source": [
        "# Plot the confusion matrix\n",
        "\n",
        "Plot the confusion matrix for the test set."
      ],
      "metadata": {
        "id": "jcc6LPazS31p"
      }
    },
    {
      "cell_type": "code",
      "source": [
        "from sklearn.metrics import confusion_matrix\n",
        "import seaborn as sns\n",
        "\n",
        "true_labels = [x for _, x in test_loader.dataset]\n",
        "predicted = [int(x) for x in predicted_labels]\n",
        "sns.heatmap(confusion_matrix(true_labels, predicted), cmap=\"Blues\", annot=True, fmt='d')"
      ],
      "metadata": {
        "id": "S1ko7AIe5D9W",
        "colab": {
          "base_uri": "https://localhost:8080/",
          "height": 880
        },
        "outputId": "69bedd8c-c247-425e-9478-0f12bb84bf37"
      },
      "execution_count": 59,
      "outputs": [
        {
          "output_type": "execute_result",
          "data": {
            "text/plain": [
              "<matplotlib.axes._subplots.AxesSubplot at 0x7f36ecf6f410>"
            ]
          },
          "metadata": {},
          "execution_count": 59
        },
        {
          "output_type": "display_data",
          "data": {
            "text/plain": [
              "<Figure size 1440x1080 with 2 Axes>"
            ],
            "image/png": "[encoded data removed]"
          },
          "metadata": {
            "needs_background": "light"
          }
        }
      ]
    }
  ],
  "metadata": {
    "colab": {
      "collapsed_sections": [],
      "name": "Copy of Classification with Fully Connected model",
      "provenance": []
    },
    "kernelspec": {
      "display_name": "Python 3",
      "name": "python3"
    },
    "language_info": {
      "name": "python"
    },
    "widgets": {
      "application/vnd.jupyter.widget-state+json": {
        "36f649169f524f1f91768c56291a8b0d": {
          "model_module": "@jupyter-widgets/controls",
          "model_name": "HBoxModel",
          "model_module_version": "1.5.0",
          "state": {
            "_dom_classes": [],
            "_model_module": "@jupyter-widgets/controls",
            "_model_module_version": "1.5.0",
            "_model_name": "HBoxModel",
            "_view_count": null,
            "_view_module": "@jupyter-widgets/controls",
            "_view_module_version": "1.5.0",
            "_view_name": "HBoxView",
            "box_style": "",
            "children": [
              "IPY_MODEL_908dab48fac0432bad218be6a1093ecd",
              "IPY_MODEL_319cdf7b8e874c79ad1dbd1da1388360",
              "IPY_MODEL_3c7d3b979f8b4d1d916e13087cff8cb5"
            ],
            "layout": "IPY_MODEL_9059646710e942ae9bba6eee5486be82"
          }
        },
        "908dab48fac0432bad218be6a1093ecd": {
          "model_module": "@jupyter-widgets/controls",
          "model_name": "HTMLModel",
          "model_module_version": "1.5.0",
          "state": {
            "_dom_classes": [],
            "_model_module": "@jupyter-widgets/controls",
            "_model_module_version": "1.5.0",
            "_model_name": "HTMLModel",
            "_view_count": null,
            "_view_module": "@jupyter-widgets/controls",
            "_view_module_version": "1.5.0",
            "_view_name": "HTMLView",
            "description": "",
            "description_tooltip": null,
            "layout": "IPY_MODEL_a77ef569e82848d4872364b0842307cd",
            "placeholder": "​",
            "style": "IPY_MODEL_7ded6acbda4f45bca41db9743dc62754",
            "value": "100%"
          }
        },
        "319cdf7b8e874c79ad1dbd1da1388360": {
          "model_module": "@jupyter-widgets/controls",
          "model_name": "FloatProgressModel",
          "model_module_version": "1.5.0",
          "state": {
            "_dom_classes": [],
            "_model_module": "@jupyter-widgets/controls",
            "_model_module_version": "1.5.0",
            "_model_name": "FloatProgressModel",
            "_view_count": null,
            "_view_module": "@jupyter-widgets/controls",
            "_view_module_version": "1.5.0",
            "_view_name": "ProgressView",
            "bar_style": "success",
            "description": "",
            "description_tooltip": null,
            "layout": "IPY_MODEL_ef01c6fbe4104182a5ff6e133f881075",
            "max": 9912422,
            "min": 0,
            "orientation": "horizontal",
            "style": "IPY_MODEL_6a5a0dd37c654517bf3c5d45f7f3d3a4",
            "value": 9912422
          }
        },
        "3c7d3b979f8b4d1d916e13087cff8cb5": {
          "model_module": "@jupyter-widgets/controls",
          "model_name": "HTMLModel",
          "model_module_version": "1.5.0",
          "state": {
            "_dom_classes": [],
            "_model_module": "@jupyter-widgets/controls",
            "_model_module_version": "1.5.0",
            "_model_name": "HTMLModel",
            "_view_count": null,
            "_view_module": "@jupyter-widgets/controls",
            "_view_module_version": "1.5.0",
            "_view_name": "HTMLView",
            "description": "",
            "description_tooltip": null,
            "layout": "IPY_MODEL_ecfde1ed2dc44f7da12890cbc551ccc3",
            "placeholder": "​",
            "style": "IPY_MODEL_bd738be6ce224f34946d41c9bf22d8b9",
            "value": " 9912422/9912422 [00:00&lt;00:00, 49591532.33it/s]"
          }
        },
        "9059646710e942ae9bba6eee5486be82": {
          "model_module": "@jupyter-widgets/base",
          "model_name": "LayoutModel",
          "model_module_version": "1.2.0",
          "state": {
            "_model_module": "@jupyter-widgets/base",
            "_model_module_version": "1.2.0",
            "_model_name": "LayoutModel",
            "_view_count": null,
            "_view_module": "@jupyter-widgets/base",
            "_view_module_version": "1.2.0",
            "_view_name": "LayoutView",
            "align_content": null,
            "align_items": null,
            "align_self": null,
            "border": null,
            "bottom": null,
            "display": null,
            "flex": null,
            "flex_flow": null,
            "grid_area": null,
            "grid_auto_columns": null,
            "grid_auto_flow": null,
            "grid_auto_rows": null,
            "grid_column": null,
            "grid_gap": null,
            "grid_row": null,
            "grid_template_areas": null,
            "grid_template_columns": null,
            "grid_template_rows": null,
            "height": null,
            "justify_content": null,
            "justify_items": null,
            "left": null,
            "margin": null,
            "max_height": null,
            "max_width": null,
            "min_height": null,
            "min_width": null,
            "object_fit": null,
            "object_position": null,
            "order": null,
            "overflow": null,
            "overflow_x": null,
            "overflow_y": null,
            "padding": null,
            "right": null,
            "top": null,
            "visibility": null,
            "width": null
          }
        },
        "a77ef569e82848d4872364b0842307cd": {
          "model_module": "@jupyter-widgets/base",
          "model_name": "LayoutModel",
          "model_module_version": "1.2.0",
          "state": {
            "_model_module": "@jupyter-widgets/base",
            "_model_module_version": "1.2.0",
            "_model_name": "LayoutModel",
            "_view_count": null,
            "_view_module": "@jupyter-widgets/base",
            "_view_module_version": "1.2.0",
            "_view_name": "LayoutView",
            "align_content": null,
            "align_items": null,
            "align_self": null,
            "border": null,
            "bottom": null,
            "display": null,
            "flex": null,
            "flex_flow": null,
            "grid_area": null,
            "grid_auto_columns": null,
            "grid_auto_flow": null,
            "grid_auto_rows": null,
            "grid_column": null,
            "grid_gap": null,
            "grid_row": null,
            "grid_template_areas": null,
            "grid_template_columns": null,
            "grid_template_rows": null,
            "height": null,
            "justify_content": null,
            "justify_items": null,
            "left": null,
            "margin": null,
            "max_height": null,
            "max_width": null,
            "min_height": null,
            "min_width": null,
            "object_fit": null,
            "object_position": null,
            "order": null,
            "overflow": null,
            "overflow_x": null,
            "overflow_y": null,
            "padding": null,
            "right": null,
            "top": null,
            "visibility": null,
            "width": null
          }
        },
        "7ded6acbda4f45bca41db9743dc62754": {
          "model_module": "@jupyter-widgets/controls",
          "model_name": "DescriptionStyleModel",
          "model_module_version": "1.5.0",
          "state": {
            "_model_module": "@jupyter-widgets/controls",
            "_model_module_version": "1.5.0",
            "_model_name": "DescriptionStyleModel",
            "_view_count": null,
            "_view_module": "@jupyter-widgets/base",
            "_view_module_version": "1.2.0",
            "_view_name": "StyleView",
            "description_width": ""
          }
        },
        "ef01c6fbe4104182a5ff6e133f881075": {
          "model_module": "@jupyter-widgets/base",
          "model_name": "LayoutModel",
          "model_module_version": "1.2.0",
          "state": {
            "_model_module": "@jupyter-widgets/base",
            "_model_module_version": "1.2.0",
            "_model_name": "LayoutModel",
            "_view_count": null,
            "_view_module": "@jupyter-widgets/base",
            "_view_module_version": "1.2.0",
            "_view_name": "LayoutView",
            "align_content": null,
            "align_items": null,
            "align_self": null,
            "border": null,
            "bottom": null,
            "display": null,
            "flex": null,
            "flex_flow": null,
            "grid_area": null,
            "grid_auto_columns": null,
            "grid_auto_flow": null,
            "grid_auto_rows": null,
            "grid_column": null,
            "grid_gap": null,
            "grid_row": null,
            "grid_template_areas": null,
            "grid_template_columns": null,
            "grid_template_rows": null,
            "height": null,
            "justify_content": null,
            "justify_items": null,
            "left": null,
            "margin": null,
            "max_height": null,
            "max_width": null,
            "min_height": null,
            "min_width": null,
            "object_fit": null,
            "object_position": null,
            "order": null,
            "overflow": null,
            "overflow_x": null,
            "overflow_y": null,
            "padding": null,
            "right": null,
            "top": null,
            "visibility": null,
            "width": null
          }
        },
        "6a5a0dd37c654517bf3c5d45f7f3d3a4": {
          "model_module": "@jupyter-widgets/controls",
          "model_name": "ProgressStyleModel",
          "model_module_version": "1.5.0",
          "state": {
            "_model_module": "@jupyter-widgets/controls",
            "_model_module_version": "1.5.0",
            "_model_name": "ProgressStyleModel",
            "_view_count": null,
            "_view_module": "@jupyter-widgets/base",
            "_view_module_version": "1.2.0",
            "_view_name": "StyleView",
            "bar_color": null,
            "description_width": ""
          }
        },
        "ecfde1ed2dc44f7da12890cbc551ccc3": {
          "model_module": "@jupyter-widgets/base",
          "model_name": "LayoutModel",
          "model_module_version": "1.2.0",
          "state": {
            "_model_module": "@jupyter-widgets/base",
            "_model_module_version": "1.2.0",
            "_model_name": "LayoutModel",
            "_view_count": null,
            "_view_module": "@jupyter-widgets/base",
            "_view_module_version": "1.2.0",
            "_view_name": "LayoutView",
            "align_content": null,
            "align_items": null,
            "align_self": null,
            "border": null,
            "bottom": null,
            "display": null,
            "flex": null,
            "flex_flow": null,
            "grid_area": null,
            "grid_auto_columns": null,
            "grid_auto_flow": null,
            "grid_auto_rows": null,
            "grid_column": null,
            "grid_gap": null,
            "grid_row": null,
            "grid_template_areas": null,
            "grid_template_columns": null,
            "grid_template_rows": null,
            "height": null,
            "justify_content": null,
            "justify_items": null,
            "left": null,
            "margin": null,
            "max_height": null,
            "max_width": null,
            "min_height": null,
            "min_width": null,
            "object_fit": null,
            "object_position": null,
            "order": null,
            "overflow": null,
            "overflow_x": null,
            "overflow_y": null,
            "padding": null,
            "right": null,
            "top": null,
            "visibility": null,
            "width": null
          }
        },
        "bd738be6ce224f34946d41c9bf22d8b9": {
          "model_module": "@jupyter-widgets/controls",
          "model_name": "DescriptionStyleModel",
          "model_module_version": "1.5.0",
          "state": {
            "_model_module": "@jupyter-widgets/controls",
            "_model_module_version": "1.5.0",
            "_model_name": "DescriptionStyleModel",
            "_view_count": null,
            "_view_module": "@jupyter-widgets/base",
            "_view_module_version": "1.2.0",
            "_view_name": "StyleView",
            "description_width": ""
          }
        },
        "74c69df4796047469dc4fbde611d40a9": {
          "model_module": "@jupyter-widgets/controls",
          "model_name": "HBoxModel",
          "model_module_version": "1.5.0",
          "state": {
            "_dom_classes": [],
            "_model_module": "@jupyter-widgets/controls",
            "_model_module_version": "1.5.0",
            "_model_name": "HBoxModel",
            "_view_count": null,
            "_view_module": "@jupyter-widgets/controls",
            "_view_module_version": "1.5.0",
            "_view_name": "HBoxView",
            "box_style": "",
            "children": [
              "IPY_MODEL_32a4eecc8163428c888e99610cf2f9f0",
              "IPY_MODEL_3265d6888a814b7ca55968a9221afc13",
              "IPY_MODEL_32cdc4520ec24abfa33b170857da5c2a"
            ],
            "layout": "IPY_MODEL_abd24746008d4c37ad5c97cec09c3595"
          }
        },
        "32a4eecc8163428c888e99610cf2f9f0": {
          "model_module": "@jupyter-widgets/controls",
          "model_name": "HTMLModel",
          "model_module_version": "1.5.0",
          "state": {
            "_dom_classes": [],
            "_model_module": "@jupyter-widgets/controls",
            "_model_module_version": "1.5.0",
            "_model_name": "HTMLModel",
            "_view_count": null,
            "_view_module": "@jupyter-widgets/controls",
            "_view_module_version": "1.5.0",
            "_view_name": "HTMLView",
            "description": "",
            "description_tooltip": null,
            "layout": "IPY_MODEL_94950a9bb76142d5ab74263fb62597da",
            "placeholder": "​",
            "style": "IPY_MODEL_b9c1e8c940024550961286ed2ab60ae3",
            "value": "100%"
          }
        },
        "3265d6888a814b7ca55968a9221afc13": {
          "model_module": "@jupyter-widgets/controls",
          "model_name": "FloatProgressModel",
          "model_module_version": "1.5.0",
          "state": {
            "_dom_classes": [],
            "_model_module": "@jupyter-widgets/controls",
            "_model_module_version": "1.5.0",
            "_model_name": "FloatProgressModel",
            "_view_count": null,
            "_view_module": "@jupyter-widgets/controls",
            "_view_module_version": "1.5.0",
            "_view_name": "ProgressView",
            "bar_style": "success",
            "description": "",
            "description_tooltip": null,
            "layout": "IPY_MODEL_d6daeeeed0cd4a209bcb7d252b243df6",
            "max": 28881,
            "min": 0,
            "orientation": "horizontal",
            "style": "IPY_MODEL_009ccb071c8f47cc916d6c657434e2d2",
            "value": 28881
          }
        },
        "32cdc4520ec24abfa33b170857da5c2a": {
          "model_module": "@jupyter-widgets/controls",
          "model_name": "HTMLModel",
          "model_module_version": "1.5.0",
          "state": {
            "_dom_classes": [],
            "_model_module": "@jupyter-widgets/controls",
            "_model_module_version": "1.5.0",
            "_model_name": "HTMLModel",
            "_view_count": null,
            "_view_module": "@jupyter-widgets/controls",
            "_view_module_version": "1.5.0",
            "_view_name": "HTMLView",
            "description": "",
            "description_tooltip": null,
            "layout": "IPY_MODEL_3291b0bcffb148fab03b1004544317a2",
            "placeholder": "​",
            "style": "IPY_MODEL_86b642f1150943beb7aec5c4dfd817c8",
            "value": " 28881/28881 [00:00&lt;00:00, 380395.15it/s]"
          }
        },
        "abd24746008d4c37ad5c97cec09c3595": {
          "model_module": "@jupyter-widgets/base",
          "model_name": "LayoutModel",
          "model_module_version": "1.2.0",
          "state": {
            "_model_module": "@jupyter-widgets/base",
            "_model_module_version": "1.2.0",
            "_model_name": "LayoutModel",
            "_view_count": null,
            "_view_module": "@jupyter-widgets/base",
            "_view_module_version": "1.2.0",
            "_view_name": "LayoutView",
            "align_content": null,
            "align_items": null,
            "align_self": null,
            "border": null,
            "bottom": null,
            "display": null,
            "flex": null,
            "flex_flow": null,
            "grid_area": null,
            "grid_auto_columns": null,
            "grid_auto_flow": null,
            "grid_auto_rows": null,
            "grid_column": null,
            "grid_gap": null,
            "grid_row": null,
            "grid_template_areas": null,
            "grid_template_columns": null,
            "grid_template_rows": null,
            "height": null,
            "justify_content": null,
            "justify_items": null,
            "left": null,
            "margin": null,
            "max_height": null,
            "max_width": null,
            "min_height": null,
            "min_width": null,
            "object_fit": null,
            "object_position": null,
            "order": null,
            "overflow": null,
            "overflow_x": null,
            "overflow_y": null,
            "padding": null,
            "right": null,
            "top": null,
            "visibility": null,
            "width": null
          }
        },
        "94950a9bb76142d5ab74263fb62597da": {
          "model_module": "@jupyter-widgets/base",
          "model_name": "LayoutModel",
          "model_module_version": "1.2.0",
          "state": {
            "_model_module": "@jupyter-widgets/base",
            "_model_module_version": "1.2.0",
            "_model_name": "LayoutModel",
            "_view_count": null,
            "_view_module": "@jupyter-widgets/base",
            "_view_module_version": "1.2.0",
            "_view_name": "LayoutView",
            "align_content": null,
            "align_items": null,
            "align_self": null,
            "border": null,
            "bottom": null,
            "display": null,
            "flex": null,
            "flex_flow": null,
            "grid_area": null,
            "grid_auto_columns": null,
            "grid_auto_flow": null,
            "grid_auto_rows": null,
            "grid_column": null,
            "grid_gap": null,
            "grid_row": null,
            "grid_template_areas": null,
            "grid_template_columns": null,
            "grid_template_rows": null,
            "height": null,
            "justify_content": null,
            "justify_items": null,
            "left": null,
            "margin": null,
            "max_height": null,
            "max_width": null,
            "min_height": null,
            "min_width": null,
            "object_fit": null,
            "object_position": null,
            "order": null,
            "overflow": null,
            "overflow_x": null,
            "overflow_y": null,
            "padding": null,
            "right": null,
            "top": null,
            "visibility": null,
            "width": null
          }
        },
        "b9c1e8c940024550961286ed2ab60ae3": {
          "model_module": "@jupyter-widgets/controls",
          "model_name": "DescriptionStyleModel",
          "model_module_version": "1.5.0",
          "state": {
            "_model_module": "@jupyter-widgets/controls",
            "_model_module_version": "1.5.0",
            "_model_name": "DescriptionStyleModel",
            "_view_count": null,
            "_view_module": "@jupyter-widgets/base",
            "_view_module_version": "1.2.0",
            "_view_name": "StyleView",
            "description_width": ""
          }
        },
        "d6daeeeed0cd4a209bcb7d252b243df6": {
          "model_module": "@jupyter-widgets/base",
          "model_name": "LayoutModel",
          "model_module_version": "1.2.0",
          "state": {
            "_model_module": "@jupyter-widgets/base",
            "_model_module_version": "1.2.0",
            "_model_name": "LayoutModel",
            "_view_count": null,
            "_view_module": "@jupyter-widgets/base",
            "_view_module_version": "1.2.0",
            "_view_name": "LayoutView",
            "align_content": null,
            "align_items": null,
            "align_self": null,
            "border": null,
            "bottom": null,
            "display": null,
            "flex": null,
            "flex_flow": null,
            "grid_area": null,
            "grid_auto_columns": null,
            "grid_auto_flow": null,
            "grid_auto_rows": null,
            "grid_column": null,
            "grid_gap": null,
            "grid_row": null,
            "grid_template_areas": null,
            "grid_template_columns": null,
            "grid_template_rows": null,
            "height": null,
            "justify_content": null,
            "justify_items": null,
            "left": null,
            "margin": null,
            "max_height": null,
            "max_width": null,
            "min_height": null,
            "min_width": null,
            "object_fit": null,
            "object_position": null,
            "order": null,
            "overflow": null,
            "overflow_x": null,
            "overflow_y": null,
            "padding": null,
            "right": null,
            "top": null,
            "visibility": null,
            "width": null
          }
        },
        "009ccb071c8f47cc916d6c657434e2d2": {
          "model_module": "@jupyter-widgets/controls",
          "model_name": "ProgressStyleModel",
          "model_module_version": "1.5.0",
          "state": {
            "_model_module": "@jupyter-widgets/controls",
            "_model_module_version": "1.5.0",
            "_model_name": "ProgressStyleModel",
            "_view_count": null,
            "_view_module": "@jupyter-widgets/base",
            "_view_module_version": "1.2.0",
            "_view_name": "StyleView",
            "bar_color": null,
            "description_width": ""
          }
        },
        "3291b0bcffb148fab03b1004544317a2": {
          "model_module": "@jupyter-widgets/base",
          "model_name": "LayoutModel",
          "model_module_version": "1.2.0",
          "state": {
            "_model_module": "@jupyter-widgets/base",
            "_model_module_version": "1.2.0",
            "_model_name": "LayoutModel",
            "_view_count": null,
            "_view_module": "@jupyter-widgets/base",
            "_view_module_version": "1.2.0",
            "_view_name": "LayoutView",
            "align_content": null,
            "align_items": null,
            "align_self": null,
            "border": null,
            "bottom": null,
            "display": null,
            "flex": null,
            "flex_flow": null,
            "grid_area": null,
            "grid_auto_columns": null,
            "grid_auto_flow": null,
            "grid_auto_rows": null,
            "grid_column": null,
            "grid_gap": null,
            "grid_row": null,
            "grid_template_areas": null,
            "grid_template_columns": null,
            "grid_template_rows": null,
            "height": null,
            "justify_content": null,
            "justify_items": null,
            "left": null,
            "margin": null,
            "max_height": null,
            "max_width": null,
            "min_height": null,
            "min_width": null,
            "object_fit": null,
            "object_position": null,
            "order": null,
            "overflow": null,
            "overflow_x": null,
            "overflow_y": null,
            "padding": null,
            "right": null,
            "top": null,
            "visibility": null,
            "width": null
          }
        },
        "86b642f1150943beb7aec5c4dfd817c8": {
          "model_module": "@jupyter-widgets/controls",
          "model_name": "DescriptionStyleModel",
          "model_module_version": "1.5.0",
          "state": {
            "_model_module": "@jupyter-widgets/controls",
            "_model_module_version": "1.5.0",
            "_model_name": "DescriptionStyleModel",
            "_view_count": null,
            "_view_module": "@jupyter-widgets/base",
            "_view_module_version": "1.2.0",
            "_view_name": "StyleView",
            "description_width": ""
          }
        },
        "89c1129d4b7c424982ec7acd85e836da": {
          "model_module": "@jupyter-widgets/controls",
          "model_name": "HBoxModel",
          "model_module_version": "1.5.0",
          "state": {
            "_dom_classes": [],
            "_model_module": "@jupyter-widgets/controls",
            "_model_module_version": "1.5.0",
            "_model_name": "HBoxModel",
            "_view_count": null,
            "_view_module": "@jupyter-widgets/controls",
            "_view_module_version": "1.5.0",
            "_view_name": "HBoxView",
            "box_style": "",
            "children": [
              "IPY_MODEL_9bcaaab27bec430e89c14846ddf5d193",
              "IPY_MODEL_ce8cf2623651466d8bc39236e1799c65",
              "IPY_MODEL_ae07470d4b96459caf1ea7f28362fcc7"
            ],
            "layout": "IPY_MODEL_5fab2ab5ead34ef7afae6649964c8e28"
          }
        },
        "9bcaaab27bec430e89c14846ddf5d193": {
          "model_module": "@jupyter-widgets/controls",
          "model_name": "HTMLModel",
          "model_module_version": "1.5.0",
          "state": {
            "_dom_classes": [],
            "_model_module": "@jupyter-widgets/controls",
            "_model_module_version": "1.5.0",
            "_model_name": "HTMLModel",
            "_view_count": null,
            "_view_module": "@jupyter-widgets/controls",
            "_view_module_version": "1.5.0",
            "_view_name": "HTMLView",
            "description": "",
            "description_tooltip": null,
            "layout": "IPY_MODEL_2aec823ed9ab4eb0bc409b3317239463",
            "placeholder": "​",
            "style": "IPY_MODEL_88a328cc73cd479380204fa0d02cff90",
            "value": "100%"
          }
        },
        "ce8cf2623651466d8bc39236e1799c65": {
          "model_module": "@jupyter-widgets/controls",
          "model_name": "FloatProgressModel",
          "model_module_version": "1.5.0",
          "state": {
            "_dom_classes": [],
            "_model_module": "@jupyter-widgets/controls",
            "_model_module_version": "1.5.0",
            "_model_name": "FloatProgressModel",
            "_view_count": null,
            "_view_module": "@jupyter-widgets/controls",
            "_view_module_version": "1.5.0",
            "_view_name": "ProgressView",
            "bar_style": "success",
            "description": "",
            "description_tooltip": null,
            "layout": "IPY_MODEL_0fe80a09d2c54198b7cf99704c25fd7a",
            "max": 1648877,
            "min": 0,
            "orientation": "horizontal",
            "style": "IPY_MODEL_68657aee3a6c4b28bb019fa77a68327b",
            "value": 1648877
          }
        },
        "ae07470d4b96459caf1ea7f28362fcc7": {
          "model_module": "@jupyter-widgets/controls",
          "model_name": "HTMLModel",
          "model_module_version": "1.5.0",
          "state": {
            "_dom_classes": [],
            "_model_module": "@jupyter-widgets/controls",
            "_model_module_version": "1.5.0",
            "_model_name": "HTMLModel",
            "_view_count": null,
            "_view_module": "@jupyter-widgets/controls",
            "_view_module_version": "1.5.0",
            "_view_name": "HTMLView",
            "description": "",
            "description_tooltip": null,
            "layout": "IPY_MODEL_bfc86448b16342adb0396180b787d391",
            "placeholder": "​",
            "style": "IPY_MODEL_7420d8cfe23b43c9bc78e064c788e16f",
            "value": " 1648877/1648877 [00:00&lt;00:00, 1258506.28it/s]"
          }
        },
        "5fab2ab5ead34ef7afae6649964c8e28": {
          "model_module": "@jupyter-widgets/base",
          "model_name": "LayoutModel",
          "model_module_version": "1.2.0",
          "state": {
            "_model_module": "@jupyter-widgets/base",
            "_model_module_version": "1.2.0",
            "_model_name": "LayoutModel",
            "_view_count": null,
            "_view_module": "@jupyter-widgets/base",
            "_view_module_version": "1.2.0",
            "_view_name": "LayoutView",
            "align_content": null,
            "align_items": null,
            "align_self": null,
            "border": null,
            "bottom": null,
            "display": null,
            "flex": null,
            "flex_flow": null,
            "grid_area": null,
            "grid_auto_columns": null,
            "grid_auto_flow": null,
            "grid_auto_rows": null,
            "grid_column": null,
            "grid_gap": null,
            "grid_row": null,
            "grid_template_areas": null,
            "grid_template_columns": null,
            "grid_template_rows": null,
            "height": null,
            "justify_content": null,
            "justify_items": null,
            "left": null,
            "margin": null,
            "max_height": null,
            "max_width": null,
            "min_height": null,
            "min_width": null,
            "object_fit": null,
            "object_position": null,
            "order": null,
            "overflow": null,
            "overflow_x": null,
            "overflow_y": null,
            "padding": null,
            "right": null,
            "top": null,
            "visibility": null,
            "width": null
          }
        },
        "2aec823ed9ab4eb0bc409b3317239463": {
          "model_module": "@jupyter-widgets/base",
          "model_name": "LayoutModel",
          "model_module_version": "1.2.0",
          "state": {
            "_model_module": "@jupyter-widgets/base",
            "_model_module_version": "1.2.0",
            "_model_name": "LayoutModel",
            "_view_count": null,
            "_view_module": "@jupyter-widgets/base",
            "_view_module_version": "1.2.0",
            "_view_name": "LayoutView",
            "align_content": null,
            "align_items": null,
            "align_self": null,
            "border": null,
            "bottom": null,
            "display": null,
            "flex": null,
            "flex_flow": null,
            "grid_area": null,
            "grid_auto_columns": null,
            "grid_auto_flow": null,
            "grid_auto_rows": null,
            "grid_column": null,
            "grid_gap": null,
            "grid_row": null,
            "grid_template_areas": null,
            "grid_template_columns": null,
            "grid_template_rows": null,
            "height": null,
            "justify_content": null,
            "justify_items": null,
            "left": null,
            "margin": null,
            "max_height": null,
            "max_width": null,
            "min_height": null,
            "min_width": null,
            "object_fit": null,
            "object_position": null,
            "order": null,
            "overflow": null,
            "overflow_x": null,
            "overflow_y": null,
            "padding": null,
            "right": null,
            "top": null,
            "visibility": null,
            "width": null
          }
        },
        "88a328cc73cd479380204fa0d02cff90": {
          "model_module": "@jupyter-widgets/controls",
          "model_name": "DescriptionStyleModel",
          "model_module_version": "1.5.0",
          "state": {
            "_model_module": "@jupyter-widgets/controls",
            "_model_module_version": "1.5.0",
            "_model_name": "DescriptionStyleModel",
            "_view_count": null,
            "_view_module": "@jupyter-widgets/base",
            "_view_module_version": "1.2.0",
            "_view_name": "StyleView",
            "description_width": ""
          }
        },
        "0fe80a09d2c54198b7cf99704c25fd7a": {
          "model_module": "@jupyter-widgets/base",
          "model_name": "LayoutModel",
          "model_module_version": "1.2.0",
          "state": {
            "_model_module": "@jupyter-widgets/base",
            "_model_module_version": "1.2.0",
            "_model_name": "LayoutModel",
            "_view_count": null,
            "_view_module": "@jupyter-widgets/base",
            "_view_module_version": "1.2.0",
            "_view_name": "LayoutView",
            "align_content": null,
            "align_items": null,
            "align_self": null,
            "border": null,
            "bottom": null,
            "display": null,
            "flex": null,
            "flex_flow": null,
            "grid_area": null,
            "grid_auto_columns": null,
            "grid_auto_flow": null,
            "grid_auto_rows": null,
            "grid_column": null,
            "grid_gap": null,
            "grid_row": null,
            "grid_template_areas": null,
            "grid_template_columns": null,
            "grid_template_rows": null,
            "height": null,
            "justify_content": null,
            "justify_items": null,
            "left": null,
            "margin": null,
            "max_height": null,
            "max_width": null,
            "min_height": null,
            "min_width": null,
            "object_fit": null,
            "object_position": null,
            "order": null,
            "overflow": null,
            "overflow_x": null,
            "overflow_y": null,
            "padding": null,
            "right": null,
            "top": null,
            "visibility": null,
            "width": null
          }
        },
        "68657aee3a6c4b28bb019fa77a68327b": {
          "model_module": "@jupyter-widgets/controls",
          "model_name": "ProgressStyleModel",
          "model_module_version": "1.5.0",
          "state": {
            "_model_module": "@jupyter-widgets/controls",
            "_model_module_version": "1.5.0",
            "_model_name": "ProgressStyleModel",
            "_view_count": null,
            "_view_module": "@jupyter-widgets/base",
            "_view_module_version": "1.2.0",
            "_view_name": "StyleView",
            "bar_color": null,
            "description_width": ""
          }
        },
        "bfc86448b16342adb0396180b787d391": {
          "model_module": "@jupyter-widgets/base",
          "model_name": "LayoutModel",
          "model_module_version": "1.2.0",
          "state": {
            "_model_module": "@jupyter-widgets/base",
            "_model_module_version": "1.2.0",
            "_model_name": "LayoutModel",
            "_view_count": null,
            "_view_module": "@jupyter-widgets/base",
            "_view_module_version": "1.2.0",
            "_view_name": "LayoutView",
            "align_content": null,
            "align_items": null,
            "align_self": null,
            "border": null,
            "bottom": null,
            "display": null,
            "flex": null,
            "flex_flow": null,
            "grid_area": null,
            "grid_auto_columns": null,
            "grid_auto_flow": null,
            "grid_auto_rows": null,
            "grid_column": null,
            "grid_gap": null,
            "grid_row": null,
            "grid_template_areas": null,
            "grid_template_columns": null,
            "grid_template_rows": null,
            "height": null,
            "justify_content": null,
            "justify_items": null,
            "left": null,
            "margin": null,
            "max_height": null,
            "max_width": null,
            "min_height": null,
            "min_width": null,
            "object_fit": null,
            "object_position": null,
            "order": null,
            "overflow": null,
            "overflow_x": null,
            "overflow_y": null,
            "padding": null,
            "right": null,
            "top": null,
            "visibility": null,
            "width": null
          }
        },
        "7420d8cfe23b43c9bc78e064c788e16f": {
          "model_module": "@jupyter-widgets/controls",
          "model_name": "DescriptionStyleModel",
          "model_module_version": "1.5.0",
          "state": {
            "_model_module": "@jupyter-widgets/controls",
            "_model_module_version": "1.5.0",
            "_model_name": "DescriptionStyleModel",
            "_view_count": null,
            "_view_module": "@jupyter-widgets/base",
            "_view_module_version": "1.2.0",
            "_view_name": "StyleView",
            "description_width": ""
          }
        },
        "927c26b383bb415f9af19b3ca47ede57": {
          "model_module": "@jupyter-widgets/controls",
          "model_name": "HBoxModel",
          "model_module_version": "1.5.0",
          "state": {
            "_dom_classes": [],
            "_model_module": "@jupyter-widgets/controls",
            "_model_module_version": "1.5.0",
            "_model_name": "HBoxModel",
            "_view_count": null,
            "_view_module": "@jupyter-widgets/controls",
            "_view_module_version": "1.5.0",
            "_view_name": "HBoxView",
            "box_style": "",
            "children": [
              "IPY_MODEL_e98474ae945d47739296dad90031c1c8",
              "IPY_MODEL_61ea01d457e4475f968c41b668b80e8b",
              "IPY_MODEL_c034d8c6726843dc97bfef972f5e056f"
            ],
            "layout": "IPY_MODEL_f95296e5ae72456182e86c5c6c74ec9d"
          }
        },
        "e98474ae945d47739296dad90031c1c8": {
          "model_module": "@jupyter-widgets/controls",
          "model_name": "HTMLModel",
          "model_module_version": "1.5.0",
          "state": {
            "_dom_classes": [],
            "_model_module": "@jupyter-widgets/controls",
            "_model_module_version": "1.5.0",
            "_model_name": "HTMLModel",
            "_view_count": null,
            "_view_module": "@jupyter-widgets/controls",
            "_view_module_version": "1.5.0",
            "_view_name": "HTMLView",
            "description": "",
            "description_tooltip": null,
            "layout": "IPY_MODEL_7184796e9409475981c77df60a045dc4",
            "placeholder": "​",
            "style": "IPY_MODEL_99222544f30842f3b5a1516ac7a9f9f8",
            "value": "100%"
          }
        },
        "61ea01d457e4475f968c41b668b80e8b": {
          "model_module": "@jupyter-widgets/controls",
          "model_name": "FloatProgressModel",
          "model_module_version": "1.5.0",
          "state": {
            "_dom_classes": [],
            "_model_module": "@jupyter-widgets/controls",
            "_model_module_version": "1.5.0",
            "_model_name": "FloatProgressModel",
            "_view_count": null,
            "_view_module": "@jupyter-widgets/controls",
            "_view_module_version": "1.5.0",
            "_view_name": "ProgressView",
            "bar_style": "success",
            "description": "",
            "description_tooltip": null,
            "layout": "IPY_MODEL_e81de26242f2478ba05dd1c2b6e14f84",
            "max": 4542,
            "min": 0,
            "orientation": "horizontal",
            "style": "IPY_MODEL_4b4c41e127204810b6b79fe683f0d1be",
            "value": 4542
          }
        },
        "c034d8c6726843dc97bfef972f5e056f": {
          "model_module": "@jupyter-widgets/controls",
          "model_name": "HTMLModel",
          "model_module_version": "1.5.0",
          "state": {
            "_dom_classes": [],
            "_model_module": "@jupyter-widgets/controls",
            "_model_module_version": "1.5.0",
            "_model_name": "HTMLModel",
            "_view_count": null,
            "_view_module": "@jupyter-widgets/controls",
            "_view_module_version": "1.5.0",
            "_view_name": "HTMLView",
            "description": "",
            "description_tooltip": null,
            "layout": "IPY_MODEL_c31e67570dec400795775f5a4326f11f",
            "placeholder": "​",
            "style": "IPY_MODEL_ddbdc9dda5a34aa0a5e9c0656539cd4b",
            "value": " 4542/4542 [00:00&lt;00:00, 63416.15it/s]"
          }
        },
        "f95296e5ae72456182e86c5c6c74ec9d": {
          "model_module": "@jupyter-widgets/base",
          "model_name": "LayoutModel",
          "model_module_version": "1.2.0",
          "state": {
            "_model_module": "@jupyter-widgets/base",
            "_model_module_version": "1.2.0",
            "_model_name": "LayoutModel",
            "_view_count": null,
            "_view_module": "@jupyter-widgets/base",
            "_view_module_version": "1.2.0",
            "_view_name": "LayoutView",
            "align_content": null,
            "align_items": null,
            "align_self": null,
            "border": null,
            "bottom": null,
            "display": null,
            "flex": null,
            "flex_flow": null,
            "grid_area": null,
            "grid_auto_columns": null,
            "grid_auto_flow": null,
            "grid_auto_rows": null,
            "grid_column": null,
            "grid_gap": null,
            "grid_row": null,
            "grid_template_areas": null,
            "grid_template_columns": null,
            "grid_template_rows": null,
            "height": null,
            "justify_content": null,
            "justify_items": null,
            "left": null,
            "margin": null,
            "max_height": null,
            "max_width": null,
            "min_height": null,
            "min_width": null,
            "object_fit": null,
            "object_position": null,
            "order": null,
            "overflow": null,
            "overflow_x": null,
            "overflow_y": null,
            "padding": null,
            "right": null,
            "top": null,
            "visibility": null,
            "width": null
          }
        },
        "7184796e9409475981c77df60a045dc4": {
          "model_module": "@jupyter-widgets/base",
          "model_name": "LayoutModel",
          "model_module_version": "1.2.0",
          "state": {
            "_model_module": "@jupyter-widgets/base",
            "_model_module_version": "1.2.0",
            "_model_name": "LayoutModel",
            "_view_count": null,
            "_view_module": "@jupyter-widgets/base",
            "_view_module_version": "1.2.0",
            "_view_name": "LayoutView",
            "align_content": null,
            "align_items": null,
            "align_self": null,
            "border": null,
            "bottom": null,
            "display": null,
            "flex": null,
            "flex_flow": null,
            "grid_area": null,
            "grid_auto_columns": null,
            "grid_auto_flow": null,
            "grid_auto_rows": null,
            "grid_column": null,
            "grid_gap": null,
            "grid_row": null,
            "grid_template_areas": null,
            "grid_template_columns": null,
            "grid_template_rows": null,
            "height": null,
            "justify_content": null,
            "justify_items": null,
            "left": null,
            "margin": null,
            "max_height": null,
            "max_width": null,
            "min_height": null,
            "min_width": null,
            "object_fit": null,
            "object_position": null,
            "order": null,
            "overflow": null,
            "overflow_x": null,
            "overflow_y": null,
            "padding": null,
            "right": null,
            "top": null,
            "visibility": null,
            "width": null
          }
        },
        "99222544f30842f3b5a1516ac7a9f9f8": {
          "model_module": "@jupyter-widgets/controls",
          "model_name": "DescriptionStyleModel",
          "model_module_version": "1.5.0",
          "state": {
            "_model_module": "@jupyter-widgets/controls",
            "_model_module_version": "1.5.0",
            "_model_name": "DescriptionStyleModel",
            "_view_count": null,
            "_view_module": "@jupyter-widgets/base",
            "_view_module_version": "1.2.0",
            "_view_name": "StyleView",
            "description_width": ""
          }
        },
        "e81de26242f2478ba05dd1c2b6e14f84": {
          "model_module": "@jupyter-widgets/base",
          "model_name": "LayoutModel",
          "model_module_version": "1.2.0",
          "state": {
            "_model_module": "@jupyter-widgets/base",
            "_model_module_version": "1.2.0",
            "_model_name": "LayoutModel",
            "_view_count": null,
            "_view_module": "@jupyter-widgets/base",
            "_view_module_version": "1.2.0",
            "_view_name": "LayoutView",
            "align_content": null,
            "align_items": null,
            "align_self": null,
            "border": null,
            "bottom": null,
            "display": null,
            "flex": null,
            "flex_flow": null,
            "grid_area": null,
            "grid_auto_columns": null,
            "grid_auto_flow": null,
            "grid_auto_rows": null,
            "grid_column": null,
            "grid_gap": null,
            "grid_row": null,
            "grid_template_areas": null,
            "grid_template_columns": null,
            "grid_template_rows": null,
            "height": null,
            "justify_content": null,
            "justify_items": null,
            "left": null,
            "margin": null,
            "max_height": null,
            "max_width": null,
            "min_height": null,
            "min_width": null,
            "object_fit": null,
            "object_position": null,
            "order": null,
            "overflow": null,
            "overflow_x": null,
            "overflow_y": null,
            "padding": null,
            "right": null,
            "top": null,
            "visibility": null,
            "width": null
          }
        },
        "4b4c41e127204810b6b79fe683f0d1be": {
          "model_module": "@jupyter-widgets/controls",
          "model_name": "ProgressStyleModel",
          "model_module_version": "1.5.0",
          "state": {
            "_model_module": "@jupyter-widgets/controls",
            "_model_module_version": "1.5.0",
            "_model_name": "ProgressStyleModel",
            "_view_count": null,
            "_view_module": "@jupyter-widgets/base",
            "_view_module_version": "1.2.0",
            "_view_name": "StyleView",
            "bar_color": null,
            "description_width": ""
          }
        },
        "c31e67570dec400795775f5a4326f11f": {
          "model_module": "@jupyter-widgets/base",
          "model_name": "LayoutModel",
          "model_module_version": "1.2.0",
          "state": {
            "_model_module": "@jupyter-widgets/base",
            "_model_module_version": "1.2.0",
            "_model_name": "LayoutModel",
            "_view_count": null,
            "_view_module": "@jupyter-widgets/base",
            "_view_module_version": "1.2.0",
            "_view_name": "LayoutView",
            "align_content": null,
            "align_items": null,
            "align_self": null,
            "border": null,
            "bottom": null,
            "display": null,
            "flex": null,
            "flex_flow": null,
            "grid_area": null,
            "grid_auto_columns": null,
            "grid_auto_flow": null,
            "grid_auto_rows": null,
            "grid_column": null,
            "grid_gap": null,
            "grid_row": null,
            "grid_template_areas": null,
            "grid_template_columns": null,
            "grid_template_rows": null,
            "height": null,
            "justify_content": null,
            "justify_items": null,
            "left": null,
            "margin": null,
            "max_height": null,
            "max_width": null,
            "min_height": null,
            "min_width": null,
            "object_fit": null,
            "object_position": null,
            "order": null,
            "overflow": null,
            "overflow_x": null,
            "overflow_y": null,
            "padding": null,
            "right": null,
            "top": null,
            "visibility": null,
            "width": null
          }
        },
        "ddbdc9dda5a34aa0a5e9c0656539cd4b": {
          "model_module": "@jupyter-widgets/controls",
          "model_name": "DescriptionStyleModel",
          "model_module_version": "1.5.0",
          "state": {
            "_model_module": "@jupyter-widgets/controls",
            "_model_module_version": "1.5.0",
            "_model_name": "DescriptionStyleModel",
            "_view_count": null,
            "_view_module": "@jupyter-widgets/base",
            "_view_module_version": "1.2.0",
            "_view_name": "StyleView",
            "description_width": ""
          }
        }
      }
    },
    "accelerator": "GPU",
    "gpuClass": "standard"
  },
  "nbformat": 4,
  "nbformat_minor": 0
}